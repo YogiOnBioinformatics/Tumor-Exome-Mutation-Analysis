{
 "cells": [
  {
   "cell_type": "markdown",
   "metadata": {},
   "source": [
    "<h1>Analysis of Tumor Exome Mutations</h1>"
   ]
  },
  {
   "cell_type": "markdown",
   "metadata": {},
   "source": [
    "<!--[cancer_cells](https://swami.wustl.edu/wp-content/uploads/2015/07/cancers-cells-1038x576.jpg)-->\n",
    "<img src=\"https://swami.wustl.edu/wp-content/uploads/2015/07/cancers-cells-1038x576.jpg\" alt=\"cancer cells\" width=\"600px\">"
   ]
  },
  {
   "cell_type": "markdown",
   "metadata": {},
   "source": [
    "<h2>Author: Yogindra Raghav</h2>\n",
    "<h2>April 2019</h2>"
   ]
  },
  {
   "cell_type": "code",
   "execution_count": 1,
   "metadata": {},
   "outputs": [],
   "source": [
    "import pandas\n",
    "import itertools \n",
    "import collections"
   ]
  },
  {
   "cell_type": "markdown",
   "metadata": {},
   "source": [
    "<h3>Load All DataFrames into Dict</h3>"
   ]
  },
  {
   "cell_type": "code",
   "execution_count": 2,
   "metadata": {},
   "outputs": [],
   "source": [
    "# dict for all MAF data \n",
    "all_mafs = {}\n",
    "\n",
    "# for all 50 MAF files \n",
    "for i in range(0,50): \n",
    "    # load all MAF data into dict using patient number as key \n",
    "    all_mafs[\"Patient-\"+str(i)] = pandas.read_csv(\"mafs/Patient-\"+str(i)+\".somatic.snvs.maf\", sep=\"\\t\")\n",
    "    "
   ]
  },
  {
   "cell_type": "markdown",
   "metadata": {},
   "source": [
    "<h3>Subset for: NOT Variant Classification \"Silent\"</h3>"
   ]
  },
  {
   "cell_type": "code",
   "execution_count": 3,
   "metadata": {},
   "outputs": [],
   "source": [
    "# dict for dataframes subsetted for non-silent variants \n",
    "not_silent = {} \n",
    "\n",
    "# for all MAFs\n",
    "for maf in all_mafs: \n",
    "    # subset for variants that are not \"silent\" variants \n",
    "    not_silent[maf] = all_mafs[maf].loc[all_mafs[maf][\"Variant_Classification\"]!=\"Silent\"]\n"
   ]
  },
  {
   "cell_type": "markdown",
   "metadata": {},
   "source": [
    "<h3>Create Histogram of 10 Most Common Mutations</h3>"
   ]
  },
  {
   "cell_type": "code",
   "execution_count": 4,
   "metadata": {},
   "outputs": [],
   "source": [
    "# dict for plotting histogram \n",
    "histogram_plot_dict = {} \n",
    "\n",
    "# for each dataframe \n",
    "for dataframe in not_silent: \n",
    "    # get list of hugo symbols from dataframe\n",
    "    hugo_genes = not_silent[dataframe][\"Hugo_Symbol\"].tolist()\n",
    "    \n",
    "    # update histogram dict for future plotting \n",
    "    for gene in hugo_genes:\n",
    "        if gene in histogram_plot_dict: \n",
    "            histogram_plot_dict[gene] +=1\n",
    "        else: \n",
    "            histogram_plot_dict[gene] = 1"
   ]
  },
  {
   "cell_type": "code",
   "execution_count": 5,
   "metadata": {},
   "outputs": [
    {
     "data": {
      "text/plain": [
       "{'TTN': 41,\n",
       " 'TP53': 30,\n",
       " 'ERBB4': 27,\n",
       " 'MUC16': 22,\n",
       " 'SPEN': 22,\n",
       " 'KMT2C': 20,\n",
       " 'KMT2D': 17,\n",
       " 'ERBB3': 16,\n",
       " 'FRG1B': 14,\n",
       " 'ZNF91': 13}"
      ]
     },
     "execution_count": 5,
     "metadata": {},
     "output_type": "execute_result"
    }
   ],
   "source": [
    "# sort dict by values (highest to lowest) \n",
    "histogram_plot_dict={k: v for k, v in sorted(histogram_plot_dict.items(), key=lambda item: item[1], reverse=True)}\n",
    "\n",
    "# pull first 10 times and coerce to dict for future plotting \n",
    "histogram_plot_dict = dict(itertools.islice(histogram_plot_dict.items(), 0,10))\n",
    "histogram_plot_dict"
   ]
  },
  {
   "cell_type": "code",
   "execution_count": null,
   "metadata": {},
   "outputs": [],
   "source": []
  }
 ],
 "metadata": {
  "kernelspec": {
   "display_name": "Python 3",
   "language": "python",
   "name": "python3"
  },
  "language_info": {
   "codemirror_mode": {
    "name": "ipython",
    "version": 3
   },
   "file_extension": ".py",
   "mimetype": "text/x-python",
   "name": "python",
   "nbconvert_exporter": "python",
   "pygments_lexer": "ipython3",
   "version": "3.7.0"
  }
 },
 "nbformat": 4,
 "nbformat_minor": 4
}
